{
 "cells": [
  {
   "cell_type": "code",
   "execution_count": 5,
   "id": "b85e33d6-2fe6-4f34-be69-86d03c74e501",
   "metadata": {},
   "outputs": [],
   "source": [
    "import pandas as pd\n",
    "import geopandas as gpd\n",
    "import matplotlib.pyplot as plt\n",
    "import glob"
   ]
  },
  {
   "cell_type": "code",
   "execution_count": 6,
   "id": "b31aaffe-83d7-4b85-a552-e6247c85698a",
   "metadata": {},
   "outputs": [],
   "source": [
    "tier_files = glob.glob('/Users/matthewray/Desktop/Northeastern/PythonProjects/broadband/zipfiles' + '/tier*.zip')\n",
    "tier_files.sort()\n",
    "\n",
    "df = pd.concat(map(gpd.read_file, tier_files), ignore_index=True)\n",
    "df = df.dropna(axis=1, how='all')"
   ]
  },
  {
   "cell_type": "code",
   "execution_count": 7,
   "id": "81e60351-ea5b-435b-a304-7a4879bdd2dc",
   "metadata": {},
   "outputs": [],
   "source": [
    "m = df.explore(\n",
    "     column=\"v_layer\", # make choropleth based on \"BoroName\" column\n",
    "     tooltip=\"v_layer\", # show \"BoroName\" value in tooltip (on hover)\n",
    "     popup=True, # show all values in popup (on click)\n",
    "     cmap=\"Set1\")"
   ]
  },
  {
   "cell_type": "code",
   "execution_count": 8,
   "id": "0b8a2c81-6ee9-4a16-9028-4f135d151310",
   "metadata": {},
   "outputs": [],
   "source": [
    "m.save(\"index.html\")"
   ]
  },
  {
   "cell_type": "code",
   "execution_count": null,
   "id": "f4d1fa04-6c63-4557-b0fe-06b34dfcea86",
   "metadata": {},
   "outputs": [],
   "source": []
  }
 ],
 "metadata": {
  "kernelspec": {
   "display_name": "geo_venv",
   "language": "python",
   "name": "geo_venv"
  },
  "language_info": {
   "codemirror_mode": {
    "name": "ipython",
    "version": 3
   },
   "file_extension": ".py",
   "mimetype": "text/x-python",
   "name": "python",
   "nbconvert_exporter": "python",
   "pygments_lexer": "ipython3",
   "version": "3.10.4"
  }
 },
 "nbformat": 4,
 "nbformat_minor": 5
}
